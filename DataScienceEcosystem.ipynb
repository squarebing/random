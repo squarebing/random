{
 "cells": [
  {
   "cell_type": "markdown",
   "id": "01a92942-bad0-4c00-96f4-82959c817b23",
   "metadata": {},
   "source": [
    "# Data Science Tools and Ecosystem"
   ]
  },
  {
   "cell_type": "markdown",
   "id": "db47535f-cbbc-4de1-8cfe-0a57bff5956a",
   "metadata": {},
   "source": [
    "In this notebook, Data Science Tools and Ecosystem are summarized."
   ]
  },
  {
   "cell_type": "markdown",
   "id": "d9573a7c-fbbe-4ae0-958b-bde32f2035c0",
   "metadata": {},
   "source": [
    "Some of the popular languages that Data Scientists use are:\n",
    "\n",
    "1. Python\n",
    "2. R\n",
    "3. Scalar\n",
    "4. Java"
   ]
  },
  {
   "cell_type": "markdown",
   "id": "4fc2e6fb-4551-4aa4-9794-ef41d8c22ace",
   "metadata": {},
   "source": [
    "Some of the commonly used libraries used by Data Scientists include:\n",
    "\n",
    "1. TensorFlow\n",
    "2. Scikit-learn\n",
    "3. Weka"
   ]
  },
  {
   "cell_type": "markdown",
   "id": "a3c1ac17-55eb-42d6-930d-7f544c1745be",
   "metadata": {},
   "source": [
    "| Data Science Tools |\n",
    "----------------------\n",
    "| Matplotlib |\n",
    "| The Natural Language Toolkit (NLTK)|\n",
    "| Pandas |\n"
   ]
  },
  {
   "cell_type": "markdown",
   "id": "26b2c87b-1f90-4a45-9128-83d89e0aee88",
   "metadata": {
    "tags": []
   },
   "source": [
    "### Below are a few examples of evaluating arithmetic expressions in Python.\n"
   ]
  },
  {
   "cell_type": "code",
   "execution_count": 2,
   "id": "9cc67a52-474e-40d1-bcab-630834bc3287",
   "metadata": {
    "tags": []
   },
   "outputs": [
    {
     "data": {
      "text/plain": [
       "17"
      ]
     },
     "execution_count": 2,
     "metadata": {},
     "output_type": "execute_result"
    }
   ],
   "source": [
    "# This a simple arithmetic expression to mutiply then add integers\n",
    "\n",
    "(3*4)+5"
   ]
  },
  {
   "cell_type": "code",
   "execution_count": 6,
   "id": "6c5e1cae-494d-481f-a771-7337ff68839e",
   "metadata": {
    "tags": []
   },
   "outputs": [
    {
     "name": "stdout",
     "output_type": "stream",
     "text": [
      "3.3333333333333335\n"
     ]
    }
   ],
   "source": [
    "# This will convert 200 minutes to hours by diving by 60\n",
    "\n",
    "hours = 200/60\n",
    "\n",
    "print(hours)"
   ]
  },
  {
   "cell_type": "markdown",
   "id": "852b7272-595d-453b-a834-c14905f61e14",
   "metadata": {},
   "source": [
    "**Objectives:**\n",
    "\n",
    "- List popular languages for Data Science\n",
    "- List popular libraries for Data Science\n",
    "- Show exmaples of arithmetic expressions"
   ]
  },
  {
   "cell_type": "code",
   "execution_count": null,
   "id": "6aa1c34f-3606-4b29-885b-eb96dd15db90",
   "metadata": {},
   "outputs": [],
   "source": []
  },
  {
   "cell_type": "markdown",
   "id": "b561ec58-7d09-4af7-a601-45b61b6f57ef",
   "metadata": {},
   "source": [
    "## Author\n",
    "\n",
    "Bing Hu"
   ]
  },
  {
   "cell_type": "code",
   "execution_count": null,
   "id": "355aca5e-b44a-4839-aa62-710d8a6ed96b",
   "metadata": {},
   "outputs": [],
   "source": []
  }
 ],
 "metadata": {
  "kernelspec": {
   "display_name": "Python",
   "language": "python",
   "name": "conda-env-python-py"
  },
  "language_info": {
   "codemirror_mode": {
    "name": "ipython",
    "version": 3
   },
   "file_extension": ".py",
   "mimetype": "text/x-python",
   "name": "python",
   "nbconvert_exporter": "python",
   "pygments_lexer": "ipython3",
   "version": "3.7.12"
  }
 },
 "nbformat": 4,
 "nbformat_minor": 5
}
